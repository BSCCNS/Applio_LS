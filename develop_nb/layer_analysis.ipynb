{
 "cells": [
  {
   "cell_type": "code",
   "execution_count": 1,
   "id": "106acb21",
   "metadata": {},
   "outputs": [],
   "source": [
    "%load_ext autoreload\n",
    "%autoreload 2"
   ]
  },
  {
   "cell_type": "code",
   "execution_count": 2,
   "id": "91f16762",
   "metadata": {},
   "outputs": [],
   "source": [
    "import sys\n",
    "sys.path.append(\"../\")"
   ]
  },
  {
   "cell_type": "code",
   "execution_count": 3,
   "id": "3e924ab3-4ab3-461a-a1ef-2738ba142c3c",
   "metadata": {},
   "outputs": [],
   "source": [
    "import glob\n",
    "import joblib\n",
    "import pandas as pd\n",
    "#from pathlib import Path\n",
    "import matplotlib.pyplot as plt\n",
    "\n",
    "from phonetics import utils as u\n",
    "from phonetics import phone_info as ph_i \n",
    "from phonetics import plots as plots\n",
    "from sklearn.metrics import silhouette_score, silhouette_samples\n",
    "\n",
    "import warnings\n",
    "warnings.filterwarnings(\"ignore\", category=FutureWarning)\n",
    "warnings.filterwarnings(\"ignore\", category=UserWarning)"
   ]
  },
  {
   "cell_type": "code",
   "execution_count": null,
   "id": "46f5bb4e",
   "metadata": {},
   "outputs": [],
   "source": [
    "root = '/Users/tomasandrade/Documents/BSC/ICHOIR/applio/Applio_LS/assets/datasets'"
   ]
  },
  {
   "cell_type": "code",
   "execution_count": null,
   "id": "604d18eb",
   "metadata": {},
   "outputs": [],
   "source": [
    "path_sil_1 = f'{root}/songs/songs_out/silhouette_layers.csv'\n",
    "path_mi_1 = f'{root}/songs/songs_out/mi_layers.csv'\n",
    "df_sil_1 = pd.read_csv(path_sil_1, index_col=0)\n",
    "df_mi_1 = pd.read_csv(path_mi_1, index_col=0)"
   ]
  },
  {
   "cell_type": "code",
   "execution_count": 18,
   "id": "4352f464",
   "metadata": {},
   "outputs": [
    {
     "data": {
      "text/plain": [
       "[<matplotlib.lines.Line2D at 0x28ddee9d0>]"
      ]
     },
     "execution_count": 18,
     "metadata": {},
     "output_type": "execute_result"
    },
    {
     "data": {
      "image/png": "[encoded data removed]",
      "text/plain": [
       "<Figure size 1000x400 with 1 Axes>"
      ]
     },
     "metadata": {},
     "output_type": "display_data"
    }
   ],
   "source": [
    "plt.figure(figsize=(10,4))\n",
    "plt.plot(df_sil_1['layer'], df_sil_1['silhouette']/0.06, '-o')\n",
    "plt.plot(df_mi_1['layer'], df_mi_1['mi'], '-o')\n",
    "#plt.plot(df_sil_2['layer'], df_sil_2['silhouette'], '-o')"
   ]
  },
  {
   "cell_type": "code",
   "execution_count": 19,
   "id": "29bd3fcf",
   "metadata": {},
   "outputs": [],
   "source": [
    "d = {2: {'sil': 0.1, 'mi': 0.2},\n",
    "     3: {'sil': 0.2, 'mi': 0.3}}"
   ]
  },
  {
   "cell_type": "code",
   "execution_count": 20,
   "id": "311d88b7",
   "metadata": {},
   "outputs": [
    {
     "data": {
      "text/html": [
       "<div>\n",
       "<style scoped>\n",
       "    .dataframe tbody tr th:only-of-type {\n",
       "        vertical-align: middle;\n",
       "    }\n",
       "\n",
       "    .dataframe tbody tr th {\n",
       "        vertical-align: top;\n",
       "    }\n",
       "\n",
       "    .dataframe thead th {\n",
       "        text-align: right;\n",
       "    }\n",
       "</style>\n",
       "<table border=\"1\" class=\"dataframe\">\n",
       "  <thead>\n",
       "    <tr style=\"text-align: right;\">\n",
       "      <th></th>\n",
       "      <th>sil</th>\n",
       "      <th>mi</th>\n",
       "    </tr>\n",
       "  </thead>\n",
       "  <tbody>\n",
       "    <tr>\n",
       "      <th>2</th>\n",
       "      <td>0.1</td>\n",
       "      <td>0.2</td>\n",
       "    </tr>\n",
       "    <tr>\n",
       "      <th>3</th>\n",
       "      <td>0.2</td>\n",
       "      <td>0.3</td>\n",
       "    </tr>\n",
       "  </tbody>\n",
       "</table>\n",
       "</div>"
      ],
      "text/plain": [
       "   sil   mi\n",
       "2  0.1  0.2\n",
       "3  0.2  0.3"
      ]
     },
     "execution_count": 20,
     "metadata": {},
     "output_type": "execute_result"
    }
   ],
   "source": [
    "pd.DataFrame.from_dict(d, orient='index')"
   ]
  },
  {
   "cell_type": "code",
   "execution_count": null,
   "id": "2528c652",
   "metadata": {},
   "outputs": [],
   "source": []
  }
 ],
 "metadata": {
  "kernelspec": {
   "display_name": "ling_env",
   "language": "python",
   "name": "python3"
  },
  "language_info": {
   "codemirror_mode": {
    "name": "ipython",
    "version": 3
   },
   "file_extension": ".py",
   "mimetype": "text/x-python",
   "name": "python",
   "nbconvert_exporter": "python",
   "pygments_lexer": "ipython3",
   "version": "3.11.13"
  }
 },
 "nbformat": 4,
 "nbformat_minor": 5
}
