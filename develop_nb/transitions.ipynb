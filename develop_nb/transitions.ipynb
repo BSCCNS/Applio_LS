{
 "cells": [
  {
   "cell_type": "code",
   "execution_count": 1,
   "id": "106acb21",
   "metadata": {},
   "outputs": [],
   "source": [
    "%load_ext autoreload\n",
    "%autoreload 2"
   ]
  },
  {
   "cell_type": "code",
   "execution_count": 2,
   "id": "91f16762",
   "metadata": {},
   "outputs": [],
   "source": [
    "import sys\n",
    "sys.path.append(\"../\")"
   ]
  },
  {
   "cell_type": "code",
   "execution_count": 25,
   "id": "3e924ab3-4ab3-461a-a1ef-2738ba142c3c",
   "metadata": {},
   "outputs": [],
   "source": [
    "import pandas as pd\n",
    "import matplotlib.pyplot as plt\n",
    "import glob\n",
    "\n",
    "from phonetics import utils as u\n",
    "from phonetics import plots as plots"
   ]
  },
  {
   "cell_type": "code",
   "execution_count": 4,
   "id": "85adadcb",
   "metadata": {},
   "outputs": [],
   "source": [
    "lab_file = '/Users/tomasandrade/Documents/BSC/ICHOIR/datasets/maria_voice/LABELED_FULL/ES_volver_a_los_17.lab'"
   ]
  },
  {
   "cell_type": "code",
   "execution_count": 28,
   "id": "069369a8",
   "metadata": {},
   "outputs": [],
   "source": [
    "df_algn = u.df_alignments_from_lab_file(lab_file, add_transitions=False)\n",
    "df_algn_tr = u.df_alignments_from_lab_file(lab_file, \n",
    "                                           add_transitions=True,\n",
    "                                           pad_seconds=0.0101)"
   ]
  },
  {
   "cell_type": "code",
   "execution_count": 29,
   "id": "f3d177eb",
   "metadata": {},
   "outputs": [],
   "source": [
    "root = '/Users/tomasandrade/Documents/BSC/ICHOIR/study_phonemes_contentvec/data/songs'\n",
    "feat_paths = glob.glob(f'{root}/feat/*.csv')\n",
    "lab_paths = glob.glob(f'{root}/lab/*.lab')"
   ]
  },
  {
   "cell_type": "code",
   "execution_count": 31,
   "id": "d045ddf5",
   "metadata": {},
   "outputs": [
    {
     "data": {
      "text/plain": [
       "(23, 6)"
      ]
     },
     "execution_count": 31,
     "metadata": {},
     "output_type": "execute_result"
    }
   ],
   "source": [
    "df_algn[df_algn['duration'] < 0.02].shape"
   ]
  },
  {
   "cell_type": "code",
   "execution_count": 33,
   "id": "b7674243",
   "metadata": {},
   "outputs": [
    {
     "data": {
      "text/html": [
       "<div>\n",
       "<style scoped>\n",
       "    .dataframe tbody tr th:only-of-type {\n",
       "        vertical-align: middle;\n",
       "    }\n",
       "\n",
       "    .dataframe tbody tr th {\n",
       "        vertical-align: top;\n",
       "    }\n",
       "\n",
       "    .dataframe thead th {\n",
       "        text-align: right;\n",
       "    }\n",
       "</style>\n",
       "<table border=\"1\" class=\"dataframe\">\n",
       "  <thead>\n",
       "    <tr style=\"text-align: right;\">\n",
       "      <th></th>\n",
       "      <th>start</th>\n",
       "      <th>end</th>\n",
       "      <th>phone_base</th>\n",
       "      <th>duration</th>\n",
       "      <th>start_idx</th>\n",
       "      <th>end_idx</th>\n",
       "    </tr>\n",
       "  </thead>\n",
       "  <tbody>\n",
       "    <tr>\n",
       "      <th>8</th>\n",
       "      <td>0.829148</td>\n",
       "      <td>0.846142</td>\n",
       "      <td>B</td>\n",
       "      <td>0.016994</td>\n",
       "      <td>41</td>\n",
       "      <td>42</td>\n",
       "    </tr>\n",
       "    <tr>\n",
       "      <th>24</th>\n",
       "      <td>1.452277</td>\n",
       "      <td>1.471986</td>\n",
       "      <td>y</td>\n",
       "      <td>0.019709</td>\n",
       "      <td>72</td>\n",
       "      <td>73</td>\n",
       "    </tr>\n",
       "    <tr>\n",
       "      <th>52</th>\n",
       "      <td>3.310110</td>\n",
       "      <td>3.328675</td>\n",
       "      <td>w</td>\n",
       "      <td>0.018566</td>\n",
       "      <td>165</td>\n",
       "      <td>166</td>\n",
       "    </tr>\n",
       "    <tr>\n",
       "      <th>70</th>\n",
       "      <td>3.986648</td>\n",
       "      <td>3.987995</td>\n",
       "      <td>r</td>\n",
       "      <td>0.001347</td>\n",
       "      <td>199</td>\n",
       "      <td>199</td>\n",
       "    </tr>\n",
       "    <tr>\n",
       "      <th>88</th>\n",
       "      <td>5.347282</td>\n",
       "      <td>5.365406</td>\n",
       "      <td>e</td>\n",
       "      <td>0.018124</td>\n",
       "      <td>267</td>\n",
       "      <td>268</td>\n",
       "    </tr>\n",
       "    <tr>\n",
       "      <th>...</th>\n",
       "      <td>...</td>\n",
       "      <td>...</td>\n",
       "      <td>...</td>\n",
       "      <td>...</td>\n",
       "      <td>...</td>\n",
       "      <td>...</td>\n",
       "    </tr>\n",
       "    <tr>\n",
       "      <th>3138</th>\n",
       "      <td>216.629569</td>\n",
       "      <td>216.633868</td>\n",
       "      <td>e</td>\n",
       "      <td>0.004299</td>\n",
       "      <td>10831</td>\n",
       "      <td>10831</td>\n",
       "    </tr>\n",
       "    <tr>\n",
       "      <th>3174</th>\n",
       "      <td>219.341633</td>\n",
       "      <td>219.356812</td>\n",
       "      <td>o</td>\n",
       "      <td>0.015179</td>\n",
       "      <td>10967</td>\n",
       "      <td>10967</td>\n",
       "    </tr>\n",
       "    <tr>\n",
       "      <th>3184</th>\n",
       "      <td>219.640948</td>\n",
       "      <td>219.644351</td>\n",
       "      <td>e</td>\n",
       "      <td>0.003403</td>\n",
       "      <td>10982</td>\n",
       "      <td>10982</td>\n",
       "    </tr>\n",
       "    <tr>\n",
       "      <th>3194</th>\n",
       "      <td>221.492212</td>\n",
       "      <td>221.497382</td>\n",
       "      <td>t</td>\n",
       "      <td>0.005170</td>\n",
       "      <td>11074</td>\n",
       "      <td>11074</td>\n",
       "    </tr>\n",
       "    <tr>\n",
       "      <th>3204</th>\n",
       "      <td>222.275879</td>\n",
       "      <td>222.290137</td>\n",
       "      <td>y</td>\n",
       "      <td>0.014258</td>\n",
       "      <td>11113</td>\n",
       "      <td>11114</td>\n",
       "    </tr>\n",
       "  </tbody>\n",
       "</table>\n",
       "<p>156 rows × 6 columns</p>\n",
       "</div>"
      ],
      "text/plain": [
       "           start         end phone_base  duration  start_idx  end_idx\n",
       "8       0.829148    0.846142          B  0.016994         41       42\n",
       "24      1.452277    1.471986          y  0.019709         72       73\n",
       "52      3.310110    3.328675          w  0.018566        165      166\n",
       "70      3.986648    3.987995          r  0.001347        199      199\n",
       "88      5.347282    5.365406          e  0.018124        267      268\n",
       "...          ...         ...        ...       ...        ...      ...\n",
       "3138  216.629569  216.633868          e  0.004299      10831    10831\n",
       "3174  219.341633  219.356812          o  0.015179      10967    10967\n",
       "3184  219.640948  219.644351          e  0.003403      10982    10982\n",
       "3194  221.492212  221.497382          t  0.005170      11074    11074\n",
       "3204  222.275879  222.290137          y  0.014258      11113    11114\n",
       "\n",
       "[156 rows x 6 columns]"
      ]
     },
     "execution_count": 33,
     "metadata": {},
     "output_type": "execute_result"
    }
   ],
   "source": [
    "df_algn_tr[df_algn_tr['duration'] < 0.02]"
   ]
  },
  {
   "cell_type": "code",
   "execution_count": 44,
   "id": "ca889fc4",
   "metadata": {},
   "outputs": [],
   "source": [
    "feat_path = '/Users/tomasandrade/Documents/BSC/ICHOIR/applio/Applio_LS/experiments/maria_v0/feat_768d/feat_768d_layer_12.csv'\n",
    "df_anotated_12 = pd.read_csv(feat_path, index_col=0)\n",
    "df_song = df_anotated_12[df_anotated_12['song'] == 'ES_volver_a_los_17']\n",
    "df_song = df_song.drop(columns=['phone_base', 'song'])"
   ]
  },
  {
   "cell_type": "code",
   "execution_count": 53,
   "id": "ca3a52e5",
   "metadata": {},
   "outputs": [],
   "source": [
    "df_annotated = u.add_phone_to_feat_df(df_song, df_algn)\n",
    "df_annotated_trans = u.add_phone_to_feat_df(df_song, df_algn_tr)"
   ]
  },
  {
   "cell_type": "code",
   "execution_count": 73,
   "id": "6c383cf9",
   "metadata": {},
   "outputs": [],
   "source": [
    "mask1 = df_annotated_trans['duration'] > 0.02\n",
    "mask2 = df_annotated_trans['phone_base'] != 'transition'"
   ]
  },
  {
   "cell_type": "code",
   "execution_count": 74,
   "id": "2de1048c",
   "metadata": {},
   "outputs": [],
   "source": [
    "df_clean = df_annotated_trans[mask1 & mask2]"
   ]
  },
  {
   "cell_type": "code",
   "execution_count": 76,
   "id": "5906ccf6",
   "metadata": {},
   "outputs": [
    {
     "data": {
      "text/plain": [
       "0.8505839350985112"
      ]
     },
     "execution_count": 76,
     "metadata": {},
     "output_type": "execute_result"
    }
   ],
   "source": [
    "len(df_clean)/len(df_annotated_trans)"
   ]
  },
  {
   "cell_type": "code",
   "execution_count": null,
   "id": "de98dbb8",
   "metadata": {},
   "outputs": [],
   "source": []
  }
 ],
 "metadata": {
  "kernelspec": {
   "display_name": "ling_env",
   "language": "python",
   "name": "python3"
  },
  "language_info": {
   "codemirror_mode": {
    "name": "ipython",
    "version": 3
   },
   "file_extension": ".py",
   "mimetype": "text/x-python",
   "name": "python",
   "nbconvert_exporter": "python",
   "pygments_lexer": "ipython3",
   "version": "3.11.13"
  }
 },
 "nbformat": 4,
 "nbformat_minor": 5
}
