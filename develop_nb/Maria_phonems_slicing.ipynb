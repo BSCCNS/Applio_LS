{
 "cells": [
  {
   "cell_type": "code",
   "execution_count": 1,
   "id": "3e924ab3-4ab3-461a-a1ef-2738ba142c3c",
   "metadata": {},
   "outputs": [],
   "source": [
    "import pandas as pd\n",
    "import matplotlib.pyplot as plt\n",
    "import glob\n",
    "import os\n",
    "from pydub import AudioSegment"
   ]
  },
  {
   "cell_type": "markdown",
   "id": "10eb5ff6",
   "metadata": {},
   "source": [
    "# Read off phonems"
   ]
  },
  {
   "cell_type": "code",
   "execution_count": 2,
   "id": "77a57a13",
   "metadata": {},
   "outputs": [],
   "source": [
    "wav_path = '/Users/tomasandrade/Documents/BSC/ICHOIR/ls_features/LABELED_FULL/ES_volver_a_los_17.wav'\n",
    "lab_path = '/Users/tomasandrade/Documents/BSC/ICHOIR/ls_features/LABELED_FULL/ES_volver_a_los_17.lab'"
   ]
  },
  {
   "cell_type": "code",
   "execution_count": 3,
   "id": "2081b920",
   "metadata": {},
   "outputs": [],
   "source": [
    "df = pd.read_csv(lab_path, delim_whitespace=True, header=None, names=[\"start\", \"end\", \"label\"])\n",
    "\n",
    "df[['start', 'end']] = df[['start', 'end']]/1e4\n",
    "df['duration'] = df['end'] - df['start'] "
   ]
  },
  {
   "cell_type": "code",
   "execution_count": 4,
   "id": "e26e4461",
   "metadata": {},
   "outputs": [
    {
     "data": {
      "text/html": [
       "<div>\n",
       "<style scoped>\n",
       "    .dataframe tbody tr th:only-of-type {\n",
       "        vertical-align: middle;\n",
       "    }\n",
       "\n",
       "    .dataframe tbody tr th {\n",
       "        vertical-align: top;\n",
       "    }\n",
       "\n",
       "    .dataframe thead th {\n",
       "        text-align: right;\n",
       "    }\n",
       "</style>\n",
       "<table border=\"1\" class=\"dataframe\">\n",
       "  <thead>\n",
       "    <tr style=\"text-align: right;\">\n",
       "      <th></th>\n",
       "      <th>start</th>\n",
       "      <th>end</th>\n",
       "      <th>label</th>\n",
       "      <th>duration</th>\n",
       "    </tr>\n",
       "  </thead>\n",
       "  <tbody>\n",
       "    <tr>\n",
       "      <th>0</th>\n",
       "      <td>0.0000</td>\n",
       "      <td>586.8481</td>\n",
       "      <td>SP</td>\n",
       "      <td>586.8481</td>\n",
       "    </tr>\n",
       "    <tr>\n",
       "      <th>1</th>\n",
       "      <td>586.8481</td>\n",
       "      <td>627.6644</td>\n",
       "      <td>b</td>\n",
       "      <td>40.8163</td>\n",
       "    </tr>\n",
       "    <tr>\n",
       "      <th>2</th>\n",
       "      <td>627.6644</td>\n",
       "      <td>705.6690</td>\n",
       "      <td>o</td>\n",
       "      <td>78.0046</td>\n",
       "    </tr>\n",
       "    <tr>\n",
       "      <th>3</th>\n",
       "      <td>705.6690</td>\n",
       "      <td>819.0476</td>\n",
       "      <td>l</td>\n",
       "      <td>113.3786</td>\n",
       "    </tr>\n",
       "    <tr>\n",
       "      <th>4</th>\n",
       "      <td>819.0476</td>\n",
       "      <td>856.2419</td>\n",
       "      <td>B</td>\n",
       "      <td>37.1943</td>\n",
       "    </tr>\n",
       "    <tr>\n",
       "      <th>...</th>\n",
       "      <td>...</td>\n",
       "      <td>...</td>\n",
       "      <td>...</td>\n",
       "      <td>...</td>\n",
       "    </tr>\n",
       "    <tr>\n",
       "      <th>1603</th>\n",
       "      <td>222300.2368</td>\n",
       "      <td>222562.3552</td>\n",
       "      <td>e</td>\n",
       "      <td>262.1184</td>\n",
       "    </tr>\n",
       "    <tr>\n",
       "      <th>1604</th>\n",
       "      <td>222562.3552</td>\n",
       "      <td>222653.0560</td>\n",
       "      <td>D</td>\n",
       "      <td>90.7008</td>\n",
       "    </tr>\n",
       "    <tr>\n",
       "      <th>1605</th>\n",
       "      <td>222653.0560</td>\n",
       "      <td>222695.6800</td>\n",
       "      <td>r</td>\n",
       "      <td>42.6240</td>\n",
       "    </tr>\n",
       "    <tr>\n",
       "      <th>1606</th>\n",
       "      <td>222695.6800</td>\n",
       "      <td>223896.6016</td>\n",
       "      <td>a</td>\n",
       "      <td>1200.9216</td>\n",
       "    </tr>\n",
       "    <tr>\n",
       "      <th>1607</th>\n",
       "      <td>223896.6016</td>\n",
       "      <td>224351.5904</td>\n",
       "      <td>SP</td>\n",
       "      <td>454.9888</td>\n",
       "    </tr>\n",
       "  </tbody>\n",
       "</table>\n",
       "<p>1608 rows × 4 columns</p>\n",
       "</div>"
      ],
      "text/plain": [
       "            start          end label   duration\n",
       "0          0.0000     586.8481    SP   586.8481\n",
       "1        586.8481     627.6644     b    40.8163\n",
       "2        627.6644     705.6690     o    78.0046\n",
       "3        705.6690     819.0476     l   113.3786\n",
       "4        819.0476     856.2419     B    37.1943\n",
       "...           ...          ...   ...        ...\n",
       "1603  222300.2368  222562.3552     e   262.1184\n",
       "1604  222562.3552  222653.0560     D    90.7008\n",
       "1605  222653.0560  222695.6800     r    42.6240\n",
       "1606  222695.6800  223896.6016     a  1200.9216\n",
       "1607  223896.6016  224351.5904    SP   454.9888\n",
       "\n",
       "[1608 rows x 4 columns]"
      ]
     },
     "execution_count": 4,
     "metadata": {},
     "output_type": "execute_result"
    }
   ],
   "source": [
    "df"
   ]
  },
  {
   "cell_type": "code",
   "execution_count": 60,
   "id": "da788dfc",
   "metadata": {},
   "outputs": [
    {
     "data": {
      "text/plain": [
       "o     192\n",
       "e     187\n",
       "a     170\n",
       "n     115\n",
       "s     104\n",
       "l      92\n",
       "r      86\n",
       "i      77\n",
       "AP     76\n",
       "m      66\n",
       "t      65\n",
       "k      57\n",
       "B      47\n",
       "d      43\n",
       "y      39\n",
       "D      32\n",
       "p      31\n",
       "u      29\n",
       "z      19\n",
       "h      15\n",
       "rr     14\n",
       "b       8\n",
       "w       8\n",
       "f       8\n",
       "SP      6\n",
       "x       6\n",
       "N       5\n",
       "g       4\n",
       "ll      3\n",
       "Y       1\n",
       "cl      1\n",
       "ch      1\n",
       "G       1\n",
       "Name: label, dtype: int64"
      ]
     },
     "execution_count": 60,
     "metadata": {},
     "output_type": "execute_result"
    }
   ],
   "source": [
    "df['label'].value_counts()"
   ]
  },
  {
   "cell_type": "code",
   "execution_count": null,
   "id": "39b6b25f",
   "metadata": {},
   "outputs": [],
   "source": [
    "audio = AudioSegment.from_wav(wav_path)"
   ]
  },
  {
   "cell_type": "code",
   "execution_count": 61,
   "id": "9a52fa3a",
   "metadata": {},
   "outputs": [],
   "source": [
    "ph = 'B'\n",
    "c_length = df['duration'] > 20.0\n",
    "df_phone = df[(df['label'] == ph) & c_length]"
   ]
  },
  {
   "cell_type": "code",
   "execution_count": 63,
   "id": "c1be01ba",
   "metadata": {},
   "outputs": [],
   "source": [
    "out_folder = f'/Users/tomasandrade/Documents/BSC/ICHOIR/espacio-latente-maria-main/phonems/{ph}/wavs'"
   ]
  },
  {
   "cell_type": "code",
   "execution_count": 64,
   "id": "618b416f",
   "metadata": {},
   "outputs": [],
   "source": [
    "def slice_audios_from_df(df, out_folder):\n",
    "    os.makedirs(out_folder)\n",
    "    for idx, row in df.iterrows():\n",
    "        start_ms = row['start']    \n",
    "        end_ms = row['end']\n",
    "        label = row['label']        # optional: use for naming\n",
    "\n",
    "        # Slice the audio\n",
    "        clip = audio[start_ms:end_ms]\n",
    "\n",
    "        # Create a filename for the clip\n",
    "        filename = f\"clip_{label}_{idx}.wav\"\n",
    "\n",
    "        # Export the clip\n",
    "        clip.export(f'{out_folder}/{filename}', format=\"wav\")\n",
    "        print(f\"Exported: {filename}\") "
   ]
  },
  {
   "cell_type": "code",
   "execution_count": 65,
   "id": "f42a565f",
   "metadata": {},
   "outputs": [
    {
     "name": "stdout",
     "output_type": "stream",
     "text": [
      "Exported: clip_B_4.wav\n",
      "Exported: clip_B_31.wav\n",
      "Exported: clip_B_33.wav\n",
      "Exported: clip_B_74.wav\n",
      "Exported: clip_B_88.wav\n",
      "Exported: clip_B_91.wav\n",
      "Exported: clip_B_130.wav\n",
      "Exported: clip_B_133.wav\n",
      "Exported: clip_B_214.wav\n",
      "Exported: clip_B_255.wav\n",
      "Exported: clip_B_257.wav\n",
      "Exported: clip_B_265.wav\n",
      "Exported: clip_B_353.wav\n",
      "Exported: clip_B_361.wav\n",
      "Exported: clip_B_546.wav\n",
      "Exported: clip_B_560.wav\n",
      "Exported: clip_B_587.wav\n",
      "Exported: clip_B_589.wav\n",
      "Exported: clip_B_597.wav\n",
      "Exported: clip_B_692.wav\n",
      "Exported: clip_B_713.wav\n",
      "Exported: clip_B_816.wav\n",
      "Exported: clip_B_859.wav\n",
      "Exported: clip_B_876.wav\n",
      "Exported: clip_B_918.wav\n",
      "Exported: clip_B_920.wav\n",
      "Exported: clip_B_928.wav\n",
      "Exported: clip_B_1082.wav\n",
      "Exported: clip_B_1131.wav\n",
      "Exported: clip_B_1135.wav\n",
      "Exported: clip_B_1164.wav\n",
      "Exported: clip_B_1168.wav\n",
      "Exported: clip_B_1185.wav\n",
      "Exported: clip_B_1221.wav\n",
      "Exported: clip_B_1226.wav\n",
      "Exported: clip_B_1228.wav\n",
      "Exported: clip_B_1236.wav\n",
      "Exported: clip_B_1309.wav\n",
      "Exported: clip_B_1320.wav\n",
      "Exported: clip_B_1370.wav\n",
      "Exported: clip_B_1390.wav\n",
      "Exported: clip_B_1403.wav\n",
      "Exported: clip_B_1494.wav\n",
      "Exported: clip_B_1500.wav\n",
      "Exported: clip_B_1542.wav\n",
      "Exported: clip_B_1544.wav\n",
      "Exported: clip_B_1552.wav\n"
     ]
    }
   ],
   "source": [
    "slice_audios_from_df(df_phone, out_folder)"
   ]
  }
 ],
 "metadata": {
  "kernelspec": {
   "display_name": "ls_umap_env",
   "language": "python",
   "name": "python3"
  },
  "language_info": {
   "codemirror_mode": {
    "name": "ipython",
    "version": 3
   },
   "file_extension": ".py",
   "mimetype": "text/x-python",
   "name": "python",
   "nbconvert_exporter": "python",
   "pygments_lexer": "ipython3",
   "version": "3.10.17"
  }
 },
 "nbformat": 4,
 "nbformat_minor": 5
}
