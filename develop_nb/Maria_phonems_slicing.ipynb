{
 "cells": [
  {
   "cell_type": "code",
   "execution_count": 1,
   "id": "3e924ab3-4ab3-461a-a1ef-2738ba142c3c",
   "metadata": {},
   "outputs": [],
   "source": [
    "import pandas as pd\n",
    "import matplotlib.pyplot as plt\n",
    "import glob\n",
    "import os\n",
    "from pydub import AudioSegment"
   ]
  },
  {
   "cell_type": "markdown",
   "id": "10eb5ff6",
   "metadata": {},
   "source": [
    "# Read off phonems"
   ]
  },
  {
   "cell_type": "code",
   "execution_count": 2,
   "id": "77a57a13",
   "metadata": {},
   "outputs": [],
   "source": [
    "wav_path = '/Users/tomasandrade/Documents/BSC/ICHOIR/ls_features/LABELED_FULL/ES_volver_a_los_17.wav'\n",
    "lab_path = '/Users/tomasandrade/Documents/BSC/ICHOIR/ls_features/LABELED_FULL/ES_volver_a_los_17.lab'"
   ]
  },
  {
   "cell_type": "code",
   "execution_count": 3,
   "id": "2081b920",
   "metadata": {},
   "outputs": [],
   "source": [
    "df = pd.read_csv(lab_path, delim_whitespace=True, header=None, names=[\"start\", \"end\", \"label\"])\n",
    "\n",
    "df[['start', 'end']] = df[['start', 'end']]/1e4\n",
    "df['duration'] = df['end'] - df['start'] "
   ]
  },
  {
   "cell_type": "code",
   "execution_count": 4,
   "id": "e26e4461",
   "metadata": {},
   "outputs": [
    {
     "data": {
      "text/html": [
       "<div>\n",
       "<style scoped>\n",
       "    .dataframe tbody tr th:only-of-type {\n",
       "        vertical-align: middle;\n",
       "    }\n",
       "\n",
       "    .dataframe tbody tr th {\n",
       "        vertical-align: top;\n",
       "    }\n",
       "\n",
       "    .dataframe thead th {\n",
       "        text-align: right;\n",
       "    }\n",
       "</style>\n",
       "<table border=\"1\" class=\"dataframe\">\n",
       "  <thead>\n",
       "    <tr style=\"text-align: right;\">\n",
       "      <th></th>\n",
       "      <th>start</th>\n",
       "      <th>end</th>\n",
       "      <th>label</th>\n",
       "      <th>duration</th>\n",
       "    </tr>\n",
       "  </thead>\n",
       "  <tbody>\n",
       "    <tr>\n",
       "      <th>0</th>\n",
       "      <td>0.0000</td>\n",
       "      <td>586.8481</td>\n",
       "      <td>SP</td>\n",
       "      <td>586.8481</td>\n",
       "    </tr>\n",
       "    <tr>\n",
       "      <th>1</th>\n",
       "      <td>586.8481</td>\n",
       "      <td>627.6644</td>\n",
       "      <td>b</td>\n",
       "      <td>40.8163</td>\n",
       "    </tr>\n",
       "    <tr>\n",
       "      <th>2</th>\n",
       "      <td>627.6644</td>\n",
       "      <td>705.6690</td>\n",
       "      <td>o</td>\n",
       "      <td>78.0046</td>\n",
       "    </tr>\n",
       "    <tr>\n",
       "      <th>3</th>\n",
       "      <td>705.6690</td>\n",
       "      <td>819.0476</td>\n",
       "      <td>l</td>\n",
       "      <td>113.3786</td>\n",
       "    </tr>\n",
       "    <tr>\n",
       "      <th>4</th>\n",
       "      <td>819.0476</td>\n",
       "      <td>856.2419</td>\n",
       "      <td>B</td>\n",
       "      <td>37.1943</td>\n",
       "    </tr>\n",
       "    <tr>\n",
       "      <th>...</th>\n",
       "      <td>...</td>\n",
       "      <td>...</td>\n",
       "      <td>...</td>\n",
       "      <td>...</td>\n",
       "    </tr>\n",
       "    <tr>\n",
       "      <th>1603</th>\n",
       "      <td>222300.2368</td>\n",
       "      <td>222562.3552</td>\n",
       "      <td>e</td>\n",
       "      <td>262.1184</td>\n",
       "    </tr>\n",
       "    <tr>\n",
       "      <th>1604</th>\n",
       "      <td>222562.3552</td>\n",
       "      <td>222653.0560</td>\n",
       "      <td>D</td>\n",
       "      <td>90.7008</td>\n",
       "    </tr>\n",
       "    <tr>\n",
       "      <th>1605</th>\n",
       "      <td>222653.0560</td>\n",
       "      <td>222695.6800</td>\n",
       "      <td>r</td>\n",
       "      <td>42.6240</td>\n",
       "    </tr>\n",
       "    <tr>\n",
       "      <th>1606</th>\n",
       "      <td>222695.6800</td>\n",
       "      <td>223896.6016</td>\n",
       "      <td>a</td>\n",
       "      <td>1200.9216</td>\n",
       "    </tr>\n",
       "    <tr>\n",
       "      <th>1607</th>\n",
       "      <td>223896.6016</td>\n",
       "      <td>224351.5904</td>\n",
       "      <td>SP</td>\n",
       "      <td>454.9888</td>\n",
       "    </tr>\n",
       "  </tbody>\n",
       "</table>\n",
       "<p>1608 rows × 4 columns</p>\n",
       "</div>"
      ],
      "text/plain": [
       "            start          end label   duration\n",
       "0          0.0000     586.8481    SP   586.8481\n",
       "1        586.8481     627.6644     b    40.8163\n",
       "2        627.6644     705.6690     o    78.0046\n",
       "3        705.6690     819.0476     l   113.3786\n",
       "4        819.0476     856.2419     B    37.1943\n",
       "...           ...          ...   ...        ...\n",
       "1603  222300.2368  222562.3552     e   262.1184\n",
       "1604  222562.3552  222653.0560     D    90.7008\n",
       "1605  222653.0560  222695.6800     r    42.6240\n",
       "1606  222695.6800  223896.6016     a  1200.9216\n",
       "1607  223896.6016  224351.5904    SP   454.9888\n",
       "\n",
       "[1608 rows x 4 columns]"
      ]
     },
     "execution_count": 4,
     "metadata": {},
     "output_type": "execute_result"
    }
   ],
   "source": [
    "df"
   ]
  },
  {
   "cell_type": "code",
   "execution_count": 9,
   "id": "6fd530fe",
   "metadata": {},
   "outputs": [],
   "source": [
    "#df[(df['duration'] > 40) & (df['duration'] < 80)].sort_values(by = 'duration')"
   ]
  },
  {
   "cell_type": "code",
   "execution_count": 6,
   "id": "d05e0465",
   "metadata": {},
   "outputs": [],
   "source": [
    "df_a = df[(df['label'] == 'a') & ((df['duration']> 200) & (df['duration'] < 600))]"
   ]
  },
  {
   "cell_type": "code",
   "execution_count": 8,
   "id": "fc55e45c",
   "metadata": {},
   "outputs": [
    {
     "data": {
      "text/plain": [
       "<Axes: >"
      ]
     },
     "execution_count": 8,
     "metadata": {},
     "output_type": "execute_result"
    },
    {
     "data": {
      "image/png": "[encoded data removed]",
      "text/plain": [
       "<Figure size 640x480 with 1 Axes>"
      ]
     },
     "metadata": {},
     "output_type": "display_data"
    }
   ],
   "source": [
    "df_a['duration'].hist()"
   ]
  },
  {
   "cell_type": "code",
   "execution_count": 15,
   "id": "dd070ddb",
   "metadata": {},
   "outputs": [
    {
     "data": {
      "text/plain": [
       "array(['SP', 'b', 'o', 'l', 'B', 'e', 'r', 'a', 's', 'd', 'y', 'z', 'i',\n",
       "       't', 'h', 'AP', 'p', 'w', 'u', 'n', 'x', 'k', 'm', 'D', 'f', 'g',\n",
       "       'rr', 'N', 'Y', 'll', 'cl', 'ch', 'G'], dtype=object)"
      ]
     },
     "execution_count": 15,
     "metadata": {},
     "output_type": "execute_result"
    }
   ],
   "source": [
    "df['label'].unique()"
   ]
  },
  {
   "cell_type": "code",
   "execution_count": null,
   "id": "39b6b25f",
   "metadata": {},
   "outputs": [],
   "source": [
    "audio = AudioSegment.from_wav(wav_path)"
   ]
  },
  {
   "cell_type": "code",
   "execution_count": 27,
   "id": "9a52fa3a",
   "metadata": {},
   "outputs": [],
   "source": [
    "ph = 'l'\n",
    "df_phone = df[df['label'] == ph]"
   ]
  },
  {
   "cell_type": "code",
   "execution_count": 28,
   "id": "c1be01ba",
   "metadata": {},
   "outputs": [],
   "source": [
    "out_folder = f'/Users/tomasandrade/Documents/BSC/ICHOIR/espacio-latente-maria-main/phonems/{ph}/wavs'"
   ]
  },
  {
   "cell_type": "code",
   "execution_count": 29,
   "id": "618b416f",
   "metadata": {},
   "outputs": [],
   "source": [
    "def slice_audios_from_df(df, out_folder):\n",
    "    os.makedirs(out_folder)\n",
    "    for idx, row in df.iterrows():\n",
    "        start_ms = row['start']    \n",
    "        end_ms = row['end']\n",
    "        label = row['label']        # optional: use for naming\n",
    "\n",
    "        # Slice the audio\n",
    "        clip = audio[start_ms:end_ms]\n",
    "\n",
    "        # Create a filename for the clip\n",
    "        filename = f\"clip_{label}_{idx}.wav\"\n",
    "\n",
    "        # Export the clip\n",
    "        clip.export(f'{out_folder}/{filename}', format=\"wav\")\n",
    "        print(f\"Exported: {filename}\") "
   ]
  },
  {
   "cell_type": "code",
   "execution_count": 30,
   "id": "f42a565f",
   "metadata": {},
   "outputs": [
    {
     "name": "stdout",
     "output_type": "stream",
     "text": [
      "Exported: clip_l_3.wav\n",
      "Exported: clip_l_8.wav\n",
      "Exported: clip_l_41.wav\n",
      "Exported: clip_l_90.wav\n",
      "Exported: clip_l_97.wav\n",
      "Exported: clip_l_116.wav\n",
      "Exported: clip_l_132.wav\n",
      "Exported: clip_l_175.wav\n",
      "Exported: clip_l_176.wav\n",
      "Exported: clip_l_241.wav\n",
      "Exported: clip_l_246.wav\n",
      "Exported: clip_l_279.wav\n",
      "Exported: clip_l_287.wav\n",
      "Exported: clip_l_301.wav\n",
      "Exported: clip_l_310.wav\n",
      "Exported: clip_l_350.wav\n",
      "Exported: clip_l_369.wav\n",
      "Exported: clip_l_376.wav\n",
      "Exported: clip_l_378.wav\n",
      "Exported: clip_l_413.wav\n",
      "Exported: clip_l_448.wav\n",
      "Exported: clip_l_456.wav\n",
      "Exported: clip_l_483.wav\n",
      "Exported: clip_l_515.wav\n",
      "Exported: clip_l_525.wav\n",
      "Exported: clip_l_573.wav\n",
      "Exported: clip_l_578.wav\n",
      "Exported: clip_l_611.wav\n",
      "Exported: clip_l_619.wav\n",
      "Exported: clip_l_633.wav\n",
      "Exported: clip_l_642.wav\n",
      "Exported: clip_l_658.wav\n",
      "Exported: clip_l_665.wav\n",
      "Exported: clip_l_681.wav\n",
      "Exported: clip_l_689.wav\n",
      "Exported: clip_l_699.wav\n",
      "Exported: clip_l_704.wav\n",
      "Exported: clip_l_720.wav\n",
      "Exported: clip_l_744.wav\n",
      "Exported: clip_l_751.wav\n",
      "Exported: clip_l_764.wav\n",
      "Exported: clip_l_789.wav\n",
      "Exported: clip_l_795.wav\n",
      "Exported: clip_l_819.wav\n",
      "Exported: clip_l_829.wav\n",
      "Exported: clip_l_832.wav\n",
      "Exported: clip_l_903.wav\n",
      "Exported: clip_l_909.wav\n",
      "Exported: clip_l_942.wav\n",
      "Exported: clip_l_951.wav\n",
      "Exported: clip_l_965.wav\n",
      "Exported: clip_l_973.wav\n",
      "Exported: clip_l_991.wav\n",
      "Exported: clip_l_1022.wav\n",
      "Exported: clip_l_1028.wav\n",
      "Exported: clip_l_1039.wav\n",
      "Exported: clip_l_1066.wav\n",
      "Exported: clip_l_1080.wav\n",
      "Exported: clip_l_1102.wav\n",
      "Exported: clip_l_1123.wav\n",
      "Exported: clip_l_1129.wav\n",
      "Exported: clip_l_1134.wav\n",
      "Exported: clip_l_1144.wav\n",
      "Exported: clip_l_1147.wav\n",
      "Exported: clip_l_1151.wav\n",
      "Exported: clip_l_1154.wav\n",
      "Exported: clip_l_1162.wav\n",
      "Exported: clip_l_1167.wav\n",
      "Exported: clip_l_1212.wav\n",
      "Exported: clip_l_1217.wav\n",
      "Exported: clip_l_1250.wav\n",
      "Exported: clip_l_1258.wav\n",
      "Exported: clip_l_1273.wav\n",
      "Exported: clip_l_1281.wav\n",
      "Exported: clip_l_1307.wav\n",
      "Exported: clip_l_1345.wav\n",
      "Exported: clip_l_1382.wav\n",
      "Exported: clip_l_1385.wav\n",
      "Exported: clip_l_1410.wav\n",
      "Exported: clip_l_1420.wav\n",
      "Exported: clip_l_1427.wav\n",
      "Exported: clip_l_1437.wav\n",
      "Exported: clip_l_1441.wav\n",
      "Exported: clip_l_1443.wav\n",
      "Exported: clip_l_1477.wav\n",
      "Exported: clip_l_1489.wav\n",
      "Exported: clip_l_1528.wav\n",
      "Exported: clip_l_1533.wav\n",
      "Exported: clip_l_1566.wav\n",
      "Exported: clip_l_1575.wav\n",
      "Exported: clip_l_1589.wav\n",
      "Exported: clip_l_1599.wav\n"
     ]
    }
   ],
   "source": [
    "slice_audios_from_df(df_phone, out_folder)"
   ]
  }
 ],
 "metadata": {
  "kernelspec": {
   "display_name": "ls_umap_env",
   "language": "python",
   "name": "python3"
  },
  "language_info": {
   "codemirror_mode": {
    "name": "ipython",
    "version": 3
   },
   "file_extension": ".py",
   "mimetype": "text/x-python",
   "name": "python",
   "nbconvert_exporter": "python",
   "pygments_lexer": "ipython3",
   "version": "3.10.17"
  }
 },
 "nbformat": 4,
 "nbformat_minor": 5
}
